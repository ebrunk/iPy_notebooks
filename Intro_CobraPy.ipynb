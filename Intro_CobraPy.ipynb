{
 "cells": [
  {
   "cell_type": "code",
   "execution_count": 1,
   "metadata": {
    "collapsed": false
   },
   "outputs": [
    {
     "name": "stdout",
     "output_type": "stream",
     "text": [
      "I'm using scipy version:\n"
     ]
    },
    {
     "data": {
      "text/plain": [
       "'0.14.0'"
      ]
     },
     "execution_count": 1,
     "metadata": {},
     "output_type": "execute_result"
    }
   ],
   "source": [
    "import os\n",
    "%matplotlib inline\n",
    "\n",
    "import cobra\n",
    "import cobra.io\n",
    "from cobra import Model, Reaction, Metabolite\n",
    "from cobra.io.sbml import create_cobra_model_from_sbml_file\n",
    "from cobra.io.sbml import write_cobra_model_to_sbml_file\n",
    "from cobra.io.mat import load_matlab_model\n",
    "from cobra.io.mat import save_matlab_model\n",
    "from scipy.io import loadmat, savemat\n",
    "\n",
    "from cobra.flux_analysis import variability\n",
    "\n",
    "# Panda python module for dataframe and data storage/manipulation\n",
    "import pandas as pd\n",
    "pd.set_option('mode.use_inf_as_null',True)\n",
    "pd.set_option('display.max_rows', 100)\n",
    "pd.set_option('display.max_columns', 999)\n",
    "pd.set_option('precision', 3)\n",
    "\n",
    "import seaborn as sns\n",
    "sns.set(style=\"white\")\n",
    "c1, c2, c3, c4, c5, c6, c7, c8, c9, c10 = sns.color_palette(\"Set2\", 10)\n",
    "b1, b2, b3, b4, b5, b6 = sns.color_palette(\"Blues\")\n",
    "\n",
    "from contextlib import contextmanager\n",
    "import sys, os\n",
    " \n",
    "@contextmanager\n",
    "def suppress_stdout():\n",
    "    with open(os.devnull, \"w\") as devnull:\n",
    "        old_stdout = sys.stdout\n",
    "        sys.stdout = devnull\n",
    "        try:  \n",
    "            yield\n",
    "        finally:\n",
    "            sys.stdout = old_stdout\n",
    "\n",
    "from copy import deepcopy\n",
    "import scipy.io\n",
    "import scipy.sparse as sparse\n",
    "import random as rand\n",
    "print \"I'm using scipy version:\" \n",
    "scipy.__version__"
   ]
  },
  {
   "cell_type": "code",
   "execution_count": 2,
   "metadata": {
    "collapsed": false
   },
   "outputs": [
    {
     "name": "stdout",
     "output_type": "stream",
     "text": [
      "/media/ebrunk/LACIE/Projects/GIT_HUB/Scripts\r\n"
     ]
    }
   ],
   "source": [
    "ROOT_DIR = os.getcwd()\n",
    "!pwd"
   ]
  },
  {
   "cell_type": "markdown",
   "metadata": {},
   "source": [
    "### Download model (e coli core model)"
   ]
  },
  {
   "cell_type": "code",
   "execution_count": 3,
   "metadata": {
    "collapsed": false
   },
   "outputs": [
    {
     "name": "stdout",
     "output_type": "stream",
     "text": [
      "--2016-08-16 20:10:48--  http://bigg.ucsd.edu/static/models/e_coli_core.mat\r\n",
      "Resolving bigg.ucsd.edu (bigg.ucsd.edu)... 132.239.8.55\r\n",
      "Connecting to bigg.ucsd.edu (bigg.ucsd.edu)|132.239.8.55|:80... connected.\r\n",
      "HTTP request sent, awaiting response... 200 OK\r\n",
      "Length: 63744 (62K) [application/octet-stream]\r\n",
      "Saving to: ‘e_coli_core.mat’\r\n",
      "\r\n",
      "\r",
      " 0% [                                       ] 0           --.-K/s              \r",
      "100%[======================================>] 63,744      --.-K/s   in 0s      \r\n",
      "\r\n",
      "2016-08-16 20:10:48 (139 MB/s) - ‘e_coli_core.mat’ saved [63744/63744]\r\n",
      "\r\n"
     ]
    }
   ],
   "source": [
    "!wget http://bigg.ucsd.edu/static/models/e_coli_core.mat"
   ]
  },
  {
   "cell_type": "code",
   "execution_count": 4,
   "metadata": {
    "collapsed": false
   },
   "outputs": [
    {
     "name": "stdout",
     "output_type": "stream",
     "text": [
      "e_coli_core.mat  e_coli_core.xml\r\n"
     ]
    }
   ],
   "source": [
    "!ls e_coli_core*"
   ]
  },
  {
   "cell_type": "markdown",
   "metadata": {},
   "source": [
    "### Load in model"
   ]
  },
  {
   "cell_type": "code",
   "execution_count": 5,
   "metadata": {
    "collapsed": false
   },
   "outputs": [],
   "source": [
    "ecoli_mat = ROOT_DIR + '/e_coli_core.mat'\n",
    "m = load_matlab_model(ecoli_mat)"
   ]
  },
  {
   "cell_type": "markdown",
   "metadata": {},
   "source": [
    "### Run FBA"
   ]
  },
  {
   "cell_type": "code",
   "execution_count": 6,
   "metadata": {
    "collapsed": false
   },
   "outputs": [
    {
     "data": {
      "text/plain": [
       "<Solution 0.873921506968 at 0x7f7f45057690>"
      ]
     },
     "execution_count": 6,
     "metadata": {},
     "output_type": "execute_result"
    }
   ],
   "source": [
    "m.optimize()"
   ]
  },
  {
   "cell_type": "code",
   "execution_count": 7,
   "metadata": {
    "collapsed": false
   },
   "outputs": [
    {
     "data": {
      "text/plain": [
       "0.8739215069684305"
      ]
     },
     "execution_count": 7,
     "metadata": {},
     "output_type": "execute_result"
    }
   ],
   "source": [
    "m.solution.f"
   ]
  },
  {
   "cell_type": "code",
   "execution_count": 8,
   "metadata": {
    "collapsed": false
   },
   "outputs": [
    {
     "data": {
      "text/plain": [
       "'optimal'"
      ]
     },
     "execution_count": 8,
     "metadata": {},
     "output_type": "execute_result"
    }
   ],
   "source": [
    "m.solution.status"
   ]
  },
  {
   "cell_type": "markdown",
   "metadata": {},
   "source": [
    "### Change objective function"
   ]
  },
  {
   "cell_type": "code",
   "execution_count": 9,
   "metadata": {
    "collapsed": false
   },
   "outputs": [
    {
     "data": {
      "text/plain": [
       "<Solution 175.0 at 0x7f7f18573690>"
      ]
     },
     "execution_count": 9,
     "metadata": {},
     "output_type": "execute_result"
    }
   ],
   "source": [
    "m.reactions.ATPM.objective_coefficient = 1\n",
    "m.reactions.BIOMASS_Ecoli_core_w_GAM.objective_coefficient = 0\n",
    "\n",
    "m.optimize()"
   ]
  },
  {
   "cell_type": "code",
   "execution_count": 10,
   "metadata": {
    "collapsed": false
   },
   "outputs": [
    {
     "data": {
      "text/plain": [
       "<Solution 0.873921506968 at 0x7f7f45057650>"
      ]
     },
     "execution_count": 10,
     "metadata": {},
     "output_type": "execute_result"
    }
   ],
   "source": [
    "m.reactions.ATPM.objective_coefficient = 0\n",
    "m.reactions.BIOMASS_Ecoli_core_w_GAM.objective_coefficient = 1\n",
    "\n",
    "m.optimize()"
   ]
  },
  {
   "cell_type": "markdown",
   "metadata": {},
   "source": [
    "### Adding / Deleting Reactions"
   ]
  },
  {
   "cell_type": "markdown",
   "metadata": {},
   "source": [
    "#### example: remove etoh transport"
   ]
  },
  {
   "cell_type": "code",
   "execution_count": 12,
   "metadata": {
    "collapsed": false
   },
   "outputs": [
    {
     "name": "stdout",
     "output_type": "stream",
     "text": [
      "reactants: ['etoh_e']\n",
      "products: []\n",
      "coefficients: {<Metabolite etoh_e at 0x7f7f18bfd8d0>: -1.0}\n",
      "lower bound: 0.0\n",
      "upper bound: 1000.0\n"
     ]
    }
   ],
   "source": [
    "print \"reactants:\", [i.id for i in m.reactions.EX_etoh_e.get_reactants()]\n",
    "print \"products:\", [i.id for i in m.reactions.EX_etoh_e.get_products()]\n",
    "print \"coefficients:\", m.reactions.EX_etoh_e.metabolites\n",
    "print \"lower bound:\", m.reactions.EX_etoh_e.lower_bound\n",
    "print \"upper bound:\", m.reactions.EX_etoh_e.upper_bound"
   ]
  },
  {
   "cell_type": "markdown",
   "metadata": {},
   "source": [
    "#### remove reaction"
   ]
  },
  {
   "cell_type": "code",
   "execution_count": 13,
   "metadata": {
    "collapsed": true
   },
   "outputs": [],
   "source": [
    "m.remove_reactions('EX_etoh_e')"
   ]
  },
  {
   "cell_type": "markdown",
   "metadata": {},
   "source": [
    "#### add it back to the model"
   ]
  },
  {
   "cell_type": "code",
   "execution_count": 14,
   "metadata": {
    "collapsed": false
   },
   "outputs": [],
   "source": [
    "from cobra import Model, Reaction, Metabolite\n",
    "\n",
    "reaction = Reaction('EX_etoh_e')\n",
    "reaction.name = 'ETOH exchange reaction'\n",
    "reaction.subsystem = 'Exchange'\n",
    "reaction.lower_bound = 0.  # This is the default\n",
    "reaction.upper_bound = 1000.  # This is the default\n",
    "reaction.objective_coefficient = 0. # this is the default"
   ]
  },
  {
   "cell_type": "code",
   "execution_count": 15,
   "metadata": {
    "collapsed": false
   },
   "outputs": [],
   "source": [
    "reaction.add_metabolites({m.metabolites.etoh_e: -1.0})"
   ]
  },
  {
   "cell_type": "code",
   "execution_count": 16,
   "metadata": {
    "collapsed": false
   },
   "outputs": [
    {
     "data": {
      "text/plain": [
       "'etoh_e --> '"
      ]
     },
     "execution_count": 16,
     "metadata": {},
     "output_type": "execute_result"
    }
   ],
   "source": [
    "reaction.reaction"
   ]
  },
  {
   "cell_type": "code",
   "execution_count": 17,
   "metadata": {
    "collapsed": true
   },
   "outputs": [],
   "source": [
    "m.add_reaction(reaction)"
   ]
  },
  {
   "cell_type": "markdown",
   "metadata": {},
   "source": [
    "#### check that its back in the model"
   ]
  },
  {
   "cell_type": "code",
   "execution_count": 18,
   "metadata": {
    "collapsed": false
   },
   "outputs": [
    {
     "name": "stdout",
     "output_type": "stream",
     "text": [
      "reactants: ['etoh_e']\n",
      "products: []\n",
      "coefficients: {<Metabolite etoh_e at 0x7f7f18bfd8d0>: -1.0}\n",
      "lower bound: 0.0\n",
      "upper bound: 1000.0\n"
     ]
    }
   ],
   "source": [
    "print \"reactants:\", [i.id for i in m.reactions.EX_etoh_e.get_reactants()]\n",
    "print \"products:\", [i.id for i in m.reactions.EX_etoh_e.get_products()]\n",
    "print \"coefficients:\", m.reactions.EX_etoh_e.metabolites\n",
    "print \"lower bound:\", m.reactions.EX_etoh_e.lower_bound\n",
    "print \"upper bound:\", m.reactions.EX_etoh_e.upper_bound"
   ]
  },
  {
   "cell_type": "markdown",
   "metadata": {},
   "source": [
    "### Flux Variability Analysis (FVA)"
   ]
  },
  {
   "cell_type": "code",
   "execution_count": 19,
   "metadata": {
    "collapsed": true
   },
   "outputs": [],
   "source": [
    "from cobra.flux_analysis.variability import flux_variability_analysis\n",
    "opt_fract = 0.9\n",
    "\n",
    "flux_var = flux_variability_analysis(m, allow_loops=False, fraction_of_optimum=opt_fract)"
   ]
  },
  {
   "cell_type": "markdown",
   "metadata": {},
   "source": [
    "#### Finds all reaction fluxes whose minimum and maximum flux differs by 20 (mmol/gDW*hr)"
   ]
  },
  {
   "cell_type": "code",
   "execution_count": 20,
   "metadata": {
    "collapsed": false
   },
   "outputs": [
    {
     "data": {
      "text/html": [
       "<div style=\"max-height:1000px;max-width:1500px;overflow:auto;\">\n",
       "<table border=\"1\" class=\"dataframe\">\n",
       "  <thead>\n",
       "    <tr style=\"text-align: right;\">\n",
       "      <th></th>\n",
       "      <th>max</th>\n",
       "      <th>min</th>\n",
       "    </tr>\n",
       "    <tr>\n",
       "      <th>rxn</th>\n",
       "      <th></th>\n",
       "      <th></th>\n",
       "    </tr>\n",
       "  </thead>\n",
       "  <tbody>\n",
       "    <tr>\n",
       "      <th>ATPS4r</th>\n",
       "      <td>   59.38</td>\n",
       "      <td> 3.48e+01</td>\n",
       "    </tr>\n",
       "    <tr>\n",
       "      <th>FORt2</th>\n",
       "      <td>   68.64</td>\n",
       "      <td> 0.00e+00</td>\n",
       "    </tr>\n",
       "    <tr>\n",
       "      <th>FORti</th>\n",
       "      <td>   68.64</td>\n",
       "      <td> 0.00e+00</td>\n",
       "    </tr>\n",
       "    <tr>\n",
       "      <th>FRD7</th>\n",
       "      <td> 1000.00</td>\n",
       "      <td> 0.00e+00</td>\n",
       "    </tr>\n",
       "    <tr>\n",
       "      <th>G6PDH2r</th>\n",
       "      <td>   24.14</td>\n",
       "      <td> 0.00e+00</td>\n",
       "    </tr>\n",
       "    <tr>\n",
       "      <th>GND</th>\n",
       "      <td>   24.14</td>\n",
       "      <td> 0.00e+00</td>\n",
       "    </tr>\n",
       "    <tr>\n",
       "      <th>NADTRHD</th>\n",
       "      <td>   44.76</td>\n",
       "      <td> 0.00e+00</td>\n",
       "    </tr>\n",
       "    <tr>\n",
       "      <th>PFK</th>\n",
       "      <td>   25.29</td>\n",
       "      <td> 1.17e+00</td>\n",
       "    </tr>\n",
       "    <tr>\n",
       "      <th>PGI</th>\n",
       "      <td>    9.84</td>\n",
       "      <td>-1.43e+01</td>\n",
       "    </tr>\n",
       "    <tr>\n",
       "      <th>PGL</th>\n",
       "      <td>   24.14</td>\n",
       "      <td> 0.00e+00</td>\n",
       "    </tr>\n",
       "    <tr>\n",
       "      <th>PPC</th>\n",
       "      <td>   20.35</td>\n",
       "      <td> 0.00e+00</td>\n",
       "    </tr>\n",
       "    <tr>\n",
       "      <th>PYK</th>\n",
       "      <td>   21.38</td>\n",
       "      <td> 0.00e+00</td>\n",
       "    </tr>\n",
       "    <tr>\n",
       "      <th>SUCCt2_2</th>\n",
       "      <td>   22.88</td>\n",
       "      <td> 0.00e+00</td>\n",
       "    </tr>\n",
       "    <tr>\n",
       "      <th>SUCCt3</th>\n",
       "      <td>   22.88</td>\n",
       "      <td>-2.58e-29</td>\n",
       "    </tr>\n",
       "    <tr>\n",
       "      <th>SUCDi</th>\n",
       "      <td> 1000.00</td>\n",
       "      <td> 0.00e+00</td>\n",
       "    </tr>\n",
       "    <tr>\n",
       "      <th>THD2</th>\n",
       "      <td>   37.04</td>\n",
       "      <td> 0.00e+00</td>\n",
       "    </tr>\n",
       "  </tbody>\n",
       "</table>\n",
       "<p>16 rows × 2 columns</p>\n",
       "</div>"
      ],
      "text/plain": [
       "              max       min\n",
       "rxn                        \n",
       "ATPS4r      59.38  3.48e+01\n",
       "FORt2       68.64  0.00e+00\n",
       "FORti       68.64  0.00e+00\n",
       "FRD7      1000.00  0.00e+00\n",
       "G6PDH2r     24.14  0.00e+00\n",
       "GND         24.14  0.00e+00\n",
       "NADTRHD     44.76  0.00e+00\n",
       "PFK         25.29  1.17e+00\n",
       "PGI          9.84 -1.43e+01\n",
       "PGL         24.14  0.00e+00\n",
       "PPC         20.35  0.00e+00\n",
       "PYK         21.38  0.00e+00\n",
       "SUCCt2_2    22.88  0.00e+00\n",
       "SUCCt3      22.88 -2.58e-29\n",
       "SUCDi     1000.00  0.00e+00\n",
       "THD2        37.04  0.00e+00\n",
       "\n",
       "[16 rows x 2 columns]"
      ]
     },
     "execution_count": 20,
     "metadata": {},
     "output_type": "execute_result"
    }
   ],
   "source": [
    "read_to_struct = [] \n",
    "for r in m.reactions:\n",
    "    if flux_var[r.id]['maximum'] - flux_var[r.id]['minimum'] > 20:\n",
    "        read_to_struct.append({'rxn':r.id, 'min':flux_var[r.id]['minimum'], 'max':flux_var[r.id]['maximum']})\n",
    "\n",
    "pd.DataFrame(read_to_struct).set_index('rxn')"
   ]
  },
  {
   "cell_type": "markdown",
   "metadata": {},
   "source": [
    "### Exercise: Change glucose uptake rate and solve FBA"
   ]
  },
  {
   "cell_type": "code",
   "execution_count": 21,
   "metadata": {
    "collapsed": false
   },
   "outputs": [
    {
     "name": "stdout",
     "output_type": "stream",
     "text": [
      "1000.0\n",
      "-10.0\n"
     ]
    }
   ],
   "source": [
    "print m.reactions.EX_glc__D_e.upper_bound\n",
    "print m.reactions.EX_glc__D_e.lower_bound"
   ]
  },
  {
   "cell_type": "code",
   "execution_count": 22,
   "metadata": {
    "collapsed": false
   },
   "outputs": [
    {
     "data": {
      "text/html": [
       "<div style=\"max-height:1000px;max-width:1500px;overflow:auto;\">\n",
       "<table border=\"1\" class=\"dataframe\">\n",
       "  <thead>\n",
       "    <tr style=\"text-align: right;\">\n",
       "      <th></th>\n",
       "      <th>glc_uptake</th>\n",
       "      <th>sol</th>\n",
       "    </tr>\n",
       "  </thead>\n",
       "  <tbody>\n",
       "    <tr>\n",
       "      <th>0</th>\n",
       "      <td>-10</td>\n",
       "      <td>  0.873921506968</td>\n",
       "    </tr>\n",
       "    <tr>\n",
       "      <th>1</th>\n",
       "      <td> -8</td>\n",
       "      <td>  0.690592014218</td>\n",
       "    </tr>\n",
       "    <tr>\n",
       "      <th>2</th>\n",
       "      <td> -7</td>\n",
       "      <td>  0.598927267843</td>\n",
       "    </tr>\n",
       "    <tr>\n",
       "      <th>3</th>\n",
       "      <td> -6</td>\n",
       "      <td>  0.507262521468</td>\n",
       "    </tr>\n",
       "    <tr>\n",
       "      <th>4</th>\n",
       "      <td> -5</td>\n",
       "      <td>  0.415597775093</td>\n",
       "    </tr>\n",
       "    <tr>\n",
       "      <th>5</th>\n",
       "      <td> -4</td>\n",
       "      <td>  0.323933028718</td>\n",
       "    </tr>\n",
       "    <tr>\n",
       "      <th>6</th>\n",
       "      <td> -3</td>\n",
       "      <td>  0.232268282343</td>\n",
       "    </tr>\n",
       "    <tr>\n",
       "      <th>7</th>\n",
       "      <td> -2</td>\n",
       "      <td>  0.140603535968</td>\n",
       "    </tr>\n",
       "    <tr>\n",
       "      <th>8</th>\n",
       "      <td> -1</td>\n",
       "      <td> 0.0483849722968</td>\n",
       "    </tr>\n",
       "  </tbody>\n",
       "</table>\n",
       "<p>9 rows × 2 columns</p>\n",
       "</div>"
      ],
      "text/plain": [
       "   glc_uptake              sol\n",
       "0         -10   0.873921506968\n",
       "1          -8   0.690592014218\n",
       "2          -7   0.598927267843\n",
       "3          -6   0.507262521468\n",
       "4          -5   0.415597775093\n",
       "5          -4   0.323933028718\n",
       "6          -3   0.232268282343\n",
       "7          -2   0.140603535968\n",
       "8          -1  0.0483849722968\n",
       "\n",
       "[9 rows x 2 columns]"
      ]
     },
     "execution_count": 22,
     "metadata": {},
     "output_type": "execute_result"
    }
   ],
   "source": [
    "val = [-10, -8, -7, -6, -5, -4, -3, -2, -1]\n",
    "\n",
    "read_to_struct = []\n",
    "\n",
    "for i in val:\n",
    "    m.reactions.EX_glc__D_e.upper_bound = 0\n",
    "    m.reactions.EX_glc__D_e.lower_bound = i\n",
    "    m.reactions.BIOMASS_Ecoli_core_w_GAM.objective_coefficient = 1\n",
    "    sol = m.optimize()\n",
    "    \n",
    "    read_to_struct.append({'glc_uptake':i, 'sol':sol})\n",
    "DF_glc_uptake = pd.DataFrame(read_to_struct)\n",
    "DF_glc_uptake"
   ]
  },
  {
   "cell_type": "code",
   "execution_count": 23,
   "metadata": {
    "collapsed": false
   },
   "outputs": [
    {
     "data": {
      "text/plain": [
       "<matplotlib.axes.AxesSubplot at 0x7f7f185ba710>"
      ]
     },
     "execution_count": 23,
     "metadata": {},
     "output_type": "execute_result"
    },
    {
     "data": {
      "image/png": "[encoded data removed]",
      "text/plain": [
       "<matplotlib.figure.Figure at 0x7f7f18583f90>"
      ]
     },
     "metadata": {},
     "output_type": "display_data"
    }
   ],
   "source": [
    "from matplotlib import pyplot as plt\n",
    "\n",
    "fig,ax = plt.subplots(figsize=(20,4))\n",
    "\n",
    "df = DF_glc_uptake#.set_index('glc_uptake')\n",
    "df.plot(x='sol', y='glc_uptake', ax=ax)"
   ]
  },
  {
   "cell_type": "code",
   "execution_count": null,
   "metadata": {
    "collapsed": true
   },
   "outputs": [],
   "source": []
  }
 ],
 "metadata": {
  "kernelspec": {
   "display_name": "Python 2",
   "language": "python",
   "name": "python2"
  },
  "language_info": {
   "codemirror_mode": {
    "name": "ipython",
    "version": 2
   },
   "file_extension": ".py",
   "mimetype": "text/x-python",
   "name": "python",
   "nbconvert_exporter": "python",
   "pygments_lexer": "ipython2",
   "version": "2.7.6"
  }
 },
 "nbformat": 4,
 "nbformat_minor": 0
}
